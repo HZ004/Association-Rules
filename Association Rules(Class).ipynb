{
 "cells": [
  {
   "cell_type": "markdown",
   "metadata": {
    "id": "fpP7kKdGbJoN"
   },
   "source": [
    "# Import libraries "
   ]
  },
  {
   "cell_type": "code",
   "execution_count": null,
   "metadata": {
    "colab": {
     "base_uri": "https://localhost:8080/"
    },
    "executionInfo": {
     "elapsed": 3137,
     "status": "ok",
     "timestamp": 1624765059177,
     "user": {
      "displayName": "Jaspal Singh Jhass",
      "photoUrl": "",
      "userId": "14870781376371902378"
     },
     "user_tz": -330
    },
    "id": "fl6W-NcMbJoX",
    "outputId": "cc43d24f-c1eb-40c8-fe85-052c7b231e97"
   },
   "outputs": [],
   "source": [
    "!pip install mlxtend"
   ]
  },
  {
   "cell_type": "code",
   "execution_count": null,
   "metadata": {},
   "outputs": [],
   "source": [
    "import pandas as pd\n",
    "from mlxtend.frequent_patterns import apriori,association_rules\n",
    "from mlxtend.preprocessing import TransactionEncoder"
   ]
  },
  {
   "cell_type": "code",
   "execution_count": null,
   "metadata": {
    "colab": {
     "base_uri": "https://localhost:8080/",
     "height": 417
    },
    "executionInfo": {
     "elapsed": 28,
     "status": "ok",
     "timestamp": 1624765059178,
     "user": {
      "displayName": "Jaspal Singh Jhass",
      "photoUrl": "",
      "userId": "14870781376371902378"
     },
     "user_tz": -330
    },
    "id": "qeHH6kPubJoY",
    "outputId": "dad3ac94-7bb2-4d43-b62e-f7285ca55959"
   },
   "outputs": [],
   "source": [
    "titanic = pd.read_csv(\"Titanic.csv\")\n",
    "titanic"
   ]
  },
  {
   "cell_type": "markdown",
   "metadata": {
    "id": "40y3B1A0bJoY"
   },
   "source": [
    "# Pre-Processing\n",
    "As the data is not in transaction formation \n",
    "We are using transaction Encoder"
   ]
  },
  {
   "cell_type": "code",
   "execution_count": null,
   "metadata": {
    "colab": {
     "base_uri": "https://localhost:8080/",
     "height": 203
    },
    "executionInfo": {
     "elapsed": 25,
     "status": "ok",
     "timestamp": 1624765059179,
     "user": {
      "displayName": "Jaspal Singh Jhass",
      "photoUrl": "",
      "userId": "14870781376371902378"
     },
     "user_tz": -330
    },
    "id": "pZ067yRcbJoZ",
    "outputId": "5eb09a48-00e5-4e54-b21b-7a703fa316b4"
   },
   "outputs": [],
   "source": [
    "df = pd.get_dummies(titanic)\n",
    "df.head()"
   ]
  },
  {
   "cell_type": "markdown",
   "metadata": {
    "id": "JxZKcTqAbJoZ"
   },
   "source": [
    "# Apriori Algorithm "
   ]
  },
  {
   "cell_type": "code",
   "execution_count": null,
   "metadata": {
    "colab": {
     "base_uri": "https://localhost:8080/",
     "height": 1000
    },
    "executionInfo": {
     "elapsed": 23,
     "status": "ok",
     "timestamp": 1624765059180,
     "user": {
      "displayName": "Jaspal Singh Jhass",
      "photoUrl": "",
      "userId": "14870781376371902378"
     },
     "user_tz": -330
    },
    "id": "3s6vFM_nbJoa",
    "outputId": "ec2b4151-3e8c-4226-ff4f-9a54ec95b6b4"
   },
   "outputs": [],
   "source": [
    "frequent_itemsets = apriori(df, min_support=0.1, use_colnames=True)\n",
    "frequent_itemsets"
   ]
  },
  {
   "cell_type": "code",
   "execution_count": null,
   "metadata": {
    "colab": {
     "base_uri": "https://localhost:8080/",
     "height": 467
    },
    "executionInfo": {
     "elapsed": 20,
     "status": "ok",
     "timestamp": 1624765059180,
     "user": {
      "displayName": "Jaspal Singh Jhass",
      "photoUrl": "",
      "userId": "14870781376371902378"
     },
     "user_tz": -330
    },
    "id": "nbaeotAcbJoa",
    "outputId": "1901c33a-51c8-4ddc-e17e-cb5bebf98438"
   },
   "outputs": [],
   "source": [
    "rules = association_rules(frequent_itemsets, metric=\"lift\", min_threshold=0.7)\n",
    "rules"
   ]
  },
  {
   "cell_type": "code",
   "execution_count": null,
   "metadata": {},
   "outputs": [],
   "source": [
    "rules.sort_values('lift',ascending = False)"
   ]
  },
  {
   "cell_type": "markdown",
   "metadata": {
    "id": "aFuVeTacbJoa"
   },
   "source": [
    "#####  An leverage value of 0 indicates independence. Range will be [-1 1]\n",
    "A high conviction value means that the consequent is highly depending on the antecedent and range [0 inf]"
   ]
  },
  {
   "cell_type": "code",
   "execution_count": null,
   "metadata": {
    "colab": {
     "base_uri": "https://localhost:8080/",
     "height": 749
    },
    "executionInfo": {
     "elapsed": 19,
     "status": "ok",
     "timestamp": 1624765059181,
     "user": {
      "displayName": "Jaspal Singh Jhass",
      "photoUrl": "",
      "userId": "14870781376371902378"
     },
     "user_tz": -330
    },
    "id": "PiJ0wRgmbJob",
    "outputId": "0c806ea8-de47-47b5-80a5-4666d29c1572"
   },
   "outputs": [],
   "source": [
    "rules.sort_values('lift',ascending = False)[0:20]"
   ]
  },
  {
   "cell_type": "code",
   "execution_count": null,
   "metadata": {
    "colab": {
     "base_uri": "https://localhost:8080/",
     "height": 518
    },
    "executionInfo": {
     "elapsed": 19,
     "status": "ok",
     "timestamp": 1624765059182,
     "user": {
      "displayName": "Jaspal Singh Jhass",
      "photoUrl": "",
      "userId": "14870781376371902378"
     },
     "user_tz": -330
    },
    "id": "I_M3G8AlbJob",
    "outputId": "60d89b65-15f1-4585-e92f-1db5a2aea5da"
   },
   "outputs": [],
   "source": [
    "rules[rules.lift>1]"
   ]
  },
  {
   "cell_type": "code",
   "execution_count": null,
   "metadata": {
    "colab": {
     "base_uri": "https://localhost:8080/",
     "height": 331
    },
    "executionInfo": {
     "elapsed": 1345,
     "status": "ok",
     "timestamp": 1624765608860,
     "user": {
      "displayName": "Jaspal Singh Jhass",
      "photoUrl": "",
      "userId": "14870781376371902378"
     },
     "user_tz": -330
    },
    "id": "SzJnzLHAbJoc",
    "outputId": "7be3b18f-4d6b-4074-d5d7-96d0b9198b64"
   },
   "outputs": [],
   "source": [
    "rules[['support','confidence']].hist()"
   ]
  },
  {
   "cell_type": "code",
   "execution_count": null,
   "metadata": {
    "colab": {
     "base_uri": "https://localhost:8080/",
     "height": 365
    },
    "executionInfo": {
     "elapsed": 1075,
     "status": "ok",
     "timestamp": 1624765621859,
     "user": {
      "displayName": "Jaspal Singh Jhass",
      "photoUrl": "",
      "userId": "14870781376371902378"
     },
     "user_tz": -330
    },
    "id": "O6wkD386kdFQ",
    "outputId": "cc7e84ec-c913-4d3a-dede-94ad9b1fc7cc"
   },
   "outputs": [],
   "source": [
    "rules[['support','confidence','lift']].hist()"
   ]
  },
  {
   "cell_type": "code",
   "execution_count": null,
   "metadata": {
    "colab": {
     "base_uri": "https://localhost:8080/",
     "height": 265
    },
    "executionInfo": {
     "elapsed": 556,
     "status": "ok",
     "timestamp": 1624765171253,
     "user": {
      "displayName": "Jaspal Singh Jhass",
      "photoUrl": "",
      "userId": "14870781376371902378"
     },
     "user_tz": -330
    },
    "id": "KA1Skq_Zi366",
    "outputId": "4865b086-9b52-4c1b-ac49-0eab2c7a25a4"
   },
   "outputs": [],
   "source": [
    "import matplotlib.pyplot as plt\n",
    "\n",
    "x = [5,7,8,7,2,17,2,9,4,11,12,9,6]\n",
    "y = [99,86,87,88,111,86,103,87,94,78,77,85,86]\n",
    "\n",
    "plt.scatter(rules['support'], rules['confidence'])\n",
    "plt.show()"
   ]
  },
  {
   "cell_type": "code",
   "execution_count": null,
   "metadata": {
    "colab": {
     "base_uri": "https://localhost:8080/",
     "height": 569
    },
    "executionInfo": {
     "elapsed": 1701,
     "status": "ok",
     "timestamp": 1624765344372,
     "user": {
      "displayName": "Jaspal Singh Jhass",
      "photoUrl": "",
      "userId": "14870781376371902378"
     },
     "user_tz": -330
    },
    "id": "QZr2BiBcjQGH",
    "outputId": "57ffe8c7-af5e-4dc6-b317-d04e50f4acb8"
   },
   "outputs": [],
   "source": [
    "import seaborn as sns\n",
    "sns.scatterplot('support', 'confidence', data=rules, hue='antecedents')\n",
    "plt.legend(bbox_to_anchor=(1.02, 1), loc='upper left', borderaxespad=0)\n",
    "plt.show()"
   ]
  },
  {
   "cell_type": "code",
   "execution_count": null,
   "metadata": {
    "colab": {
     "base_uri": "https://localhost:8080/"
    },
    "executionInfo": {
     "elapsed": 4403,
     "status": "ok",
     "timestamp": 1624982274486,
     "user": {
      "displayName": "Jaspal Singh Jhass",
      "photoUrl": "",
      "userId": "14870781376371902378"
     },
     "user_tz": -330
    },
    "id": "TO2aHlEPj6CS",
    "outputId": "37b9f09d-7f9f-482d-b91c-ad0a4e262a97"
   },
   "outputs": [],
   "source": [
    "!pip install nsepython"
   ]
  },
  {
   "cell_type": "code",
   "execution_count": null,
   "metadata": {
    "colab": {
     "base_uri": "https://localhost:8080/"
    },
    "executionInfo": {
     "elapsed": 1292,
     "status": "ok",
     "timestamp": 1624982362793,
     "user": {
      "displayName": "Jaspal Singh Jhass",
      "photoUrl": "",
      "userId": "14870781376371902378"
     },
     "user_tz": -330
    },
    "id": "QzrYjBFjfa2R",
    "outputId": "f223242e-e043-4d1d-e7cd-6ab650a60da0"
   },
   "outputs": [],
   "source": [
    "from nsepython import *   \n",
    "print(indices)"
   ]
  },
  {
   "cell_type": "code",
   "execution_count": null,
   "metadata": {
    "id": "BH_EX5oYfxK4"
   },
   "outputs": [],
   "source": [
    "oi_data, ltp, crontime = oi_chain_builder(\"RELIANCE\",\"latest\",\"full\")"
   ]
  },
  {
   "cell_type": "code",
   "execution_count": null,
   "metadata": {},
   "outputs": [],
   "source": [
    "print(oi_data)"
   ]
  },
  {
   "cell_type": "code",
   "execution_count": null,
   "metadata": {},
   "outputs": [],
   "source": [
    "print(ltp)"
   ]
  },
  {
   "cell_type": "code",
   "execution_count": null,
   "metadata": {},
   "outputs": [],
   "source": [
    "print(crontime)"
   ]
  }
 ],
 "metadata": {
  "colab": {
   "name": "Association Rules.ipynb",
   "provenance": []
  },
  "kernelspec": {
   "display_name": "Python 3 (ipykernel)",
   "language": "python",
   "name": "python3"
  },
  "language_info": {
   "codemirror_mode": {
    "name": "ipython",
    "version": 3
   },
   "file_extension": ".py",
   "mimetype": "text/x-python",
   "name": "python",
   "nbconvert_exporter": "python",
   "pygments_lexer": "ipython3",
   "version": "3.9.7"
  }
 },
 "nbformat": 4,
 "nbformat_minor": 4
}
